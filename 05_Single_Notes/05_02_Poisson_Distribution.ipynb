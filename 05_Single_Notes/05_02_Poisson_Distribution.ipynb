{
 "cells": [
  {
   "cell_type": "markdown",
   "id": "1204e79c",
   "metadata": {},
   "source": [
    "##### The Poisson Distribution\n",
    "\n",
    "The `Poisson` distribution (named after a man named *Poisson*, it's not\n",
    "about fish) describes the number of things in any part of a stochastic process\n",
    "where the locations of things are stochastically independent (one are affected\n",
    "by any of the others).  Examples would be the number of winners of a lottery,\n",
    "the number of raisins in a slice of carrot cake, the number of red blood cells\n",
    "in a drop of blood, the number of visible stars in a region of the sky,\n",
    "the number of traffic accidents in Minneapolis today.  It doesn't matter\n",
    "what is counted, so long as the thingummies counted have nothing to do with\n",
    "each other, you get the Poisson distribution.\n",
    "\n",
    "\n",
    "Its PMF is\n",
    "$$\n",
    "   f(x) = \\frac{\\mu^x e^{- \\mu}}{x !}, \\qquad x = 0, 1, 2, \\ldots,\n",
    "$$\n",
    "where $\\mu$ can be any positive real number (more on this later).\n",
    "\n",
    "The fact that probabilities sum to one is a special case of\n",
    "the Maclaurin series (Taylor series around zero) of the exponential function\n",
    "$$\n",
    "   e^\\mu = \\sum_{x = 0}^\\infty \\frac{\\mu^x}{x!}\n",
    "$$\n",
    "Here the sample space is infinite, so the fact that probabilities sum to\n",
    "one involves an infinite series.\n"
   ]
  },
  {
   "cell_type": "markdown",
   "id": "3fa2f2d4",
   "metadata": {},
   "source": [
    "### Example1: Business Custommer.\n",
    "\n",
    "A small business have a business-tracks of business customer per day. (will be generate by us because we do not have it now)\n",
    "\n",
    "What is the probability that the business will receive eactly 8 customers in one day ?"
   ]
  },
  {
   "cell_type": "code",
   "execution_count": 2,
   "id": "499d8efa",
   "metadata": {},
   "outputs": [],
   "source": [
    "import pandas as pd\n",
    "from scipy.stats import poisson\n",
    "import numpy as np\n",
    "import matplotlib.pyplot as plt"
   ]
  },
  {
   "cell_type": "code",
   "execution_count": 3,
   "id": "2c1e8d85",
   "metadata": {},
   "outputs": [],
   "source": [
    "# First we simulate the bussiness-track-customers, for example mean = 12\n",
    "\n",
    "x_rvs = poisson.rvs(12, size=100000, random_state=2)"
   ]
  },
  {
   "cell_type": "code",
   "execution_count": 4,
   "id": "8e375b17",
   "metadata": {},
   "outputs": [
    {
     "data": {
      "text/plain": [
       "11.9844"
      ]
     },
     "execution_count": 4,
     "metadata": {},
     "output_type": "execute_result"
    }
   ],
   "source": [
    "x_rvs.mean()"
   ]
  },
  {
   "cell_type": "code",
   "execution_count": 5,
   "id": "0dc86c56",
   "metadata": {},
   "outputs": [
    {
     "data": {
      "text/plain": [
       "12    11468\n",
       "11    11329\n",
       "10    10546\n",
       "13    10362\n",
       "14     9099\n",
       "9      8879\n",
       "15     7293\n",
       "8      6601\n",
       "16     5340\n",
       "7      4335\n",
       "dtype: int64"
      ]
     },
     "execution_count": 5,
     "metadata": {},
     "output_type": "execute_result"
    }
   ],
   "source": [
    "x_rvs_serie = pd.Series(x_rvs)\n",
    "data = x_rvs_serie.value_counts()\n",
    "data[:10]"
   ]
  },
  {
   "cell_type": "code",
   "execution_count": 6,
   "id": "c4ca0693",
   "metadata": {},
   "outputs": [
    {
     "name": "stdout",
     "output_type": "stream",
     "text": [
      "{0: 1, 1: 9, 2: 53, 3: 175, 4: 559, 5: 1302, 6: 2560, 7: 4335, 8: 6601, 9: 8879, 10: 10546, 11: 11329, 12: 11468, 13: 10362, 14: 9099, 15: 7293, 16: 5340, 17: 3781, 18: 2596, 19: 1607, 20: 942, 21: 570, 22: 282, 23: 154, 24: 88, 25: 31, 26: 17, 27: 11, 28: 5, 29: 3, 30: 1, 31: 1}\n"
     ]
    }
   ],
   "source": [
    "data_dic = x_rvs_serie.value_counts().sort_index().to_dict()\n",
    "print(data_dic)"
   ]
  },
  {
   "cell_type": "code",
   "execution_count": 7,
   "id": "8386e3a4",
   "metadata": {},
   "outputs": [
    {
     "data": {
      "text/plain": [
       "<BarContainer object of 32 artists>"
      ]
     },
     "execution_count": 7,
     "metadata": {},
     "output_type": "execute_result"
    },
    {
     "data": {
      "image/png": "[encoded data removed]",
      "text/plain": [
       "<Figure size 1600x600 with 1 Axes>"
      ]
     },
     "metadata": {},
     "output_type": "display_data"
    }
   ],
   "source": [
    "fix, ax = plt.subplots(figsize=(16, 6))\n",
    "ax.bar(range(len(data_dic)), list(data_dic.values()), align=\"center\")"
   ]
  },
  {
   "cell_type": "markdown",
   "id": "271502f4",
   "metadata": {},
   "source": [
    "**Formula:**\n",
    "\n",
    "$\n",
    "\\begin{aligned}\n",
    "f(x) = \\frac{\\mu^x e^{- \\mu}}{x !}, \\qquad x = 0, 1, 2, \\ldots,\n",
    "\\end{aligned}\n",
    "$"
   ]
  },
  {
   "cell_type": "code",
   "execution_count": 8,
   "id": "18600f75",
   "metadata": {},
   "outputs": [],
   "source": [
    "# Apply formula\n",
    "# p(X=x), so in our case x=8 we want to know the exactly number of clients\n",
    "def poisson_pmf(k, lam):\n",
    "    return round(((lam ** k * np.exp(-lam)) / np.math.factorial(k)) * 100, 2)"
   ]
  },
  {
   "cell_type": "code",
   "execution_count": 9,
   "id": "9418df1a",
   "metadata": {},
   "outputs": [
    {
     "name": "stdout",
     "output_type": "stream",
     "text": [
      "Probability of have exactly 8 customers folling spoisson distribution is 6.59 %\n"
     ]
    }
   ],
   "source": [
    "k = 8\n",
    "lam = x_rvs.mean()\n",
    "print(f\"Probability of have exactly {k} customers folling spoisson distribution is {poisson_pmf(k, lam)} %\")"
   ]
  },
  {
   "cell_type": "markdown",
   "id": "ae5965d5",
   "metadata": {},
   "source": [
    "Instead of using our already programmed formula we use the one given by scipy."
   ]
  },
  {
   "cell_type": "code",
   "execution_count": 10,
   "id": "d0126355",
   "metadata": {},
   "outputs": [
    {
     "name": "stdout",
     "output_type": "stream",
     "text": [
      "Probability of have exactly 8 customers folling spoisson distribution is 6.586444778980663 %\n"
     ]
    }
   ],
   "source": [
    "print(f\"Probability of have exactly {k} customers folling spoisson distribution is {poisson.pmf(k, lam) * 100} %\")"
   ]
  },
  {
   "cell_type": "markdown",
   "id": "195d4a6d",
   "metadata": {},
   "source": [
    "#### Example 2.\n",
    "\n",
    "A student receives, on average 7 text messages in a 2 hour preiord.\n",
    "\n",
    "What is the probability that the studen will receive exactly 9 text messages in a 2 hour preiod ?\n"
   ]
  },
  {
   "cell_type": "code",
   "execution_count": 11,
   "id": "b2fd4403",
   "metadata": {},
   "outputs": [
    {
     "name": "stdout",
     "output_type": "stream",
     "text": [
      "10.14 %\n"
     ]
    }
   ],
   "source": [
    "print(round(poisson.pmf(9, 7) * 100, 2), \"%\")"
   ]
  },
  {
   "cell_type": "markdown",
   "id": "3986177f",
   "metadata": {},
   "source": [
    "What is the probability that the student will receive eactly 24 text messages in an 8 hour period."
   ]
  },
  {
   "cell_type": "code",
   "execution_count": 12,
   "id": "5eb2b211",
   "metadata": {},
   "outputs": [
    {
     "name": "stdout",
     "output_type": "stream",
     "text": [
      "6.01 %\n"
     ]
    }
   ],
   "source": [
    "print(round(poisson.pmf(24, 28) * 100, 2), \"%\")"
   ]
  },
  {
   "cell_type": "markdown",
   "id": "303298c8",
   "metadata": {},
   "source": [
    "#### Example 3\n",
    "\n",
    "A small business receives, on average 8 calls per hour\n",
    "\n",
    "a) What is the probability that the business will receive exactly 7 calls in 1 hour ?"
   ]
  },
  {
   "cell_type": "code",
   "execution_count": 14,
   "id": "a62efe04",
   "metadata": {},
   "outputs": [
    {
     "name": "stdout",
     "output_type": "stream",
     "text": [
      "13.96 %\n"
     ]
    }
   ],
   "source": [
    "print(round(poisson.pmf(7, 8) * 100, 2), \"%\")"
   ]
  },
  {
   "cell_type": "markdown",
   "id": "fcae5049",
   "metadata": {},
   "source": [
    "b) What is the probability that the business will receive, at most, 5 calls in one hour?\n"
   ]
  },
  {
   "cell_type": "code",
   "execution_count": 15,
   "id": "d728cd22",
   "metadata": {},
   "outputs": [
    {
     "name": "stdout",
     "output_type": "stream",
     "text": [
      "19.12 %\n"
     ]
    }
   ],
   "source": [
    "# P(x=0) + (x=1) + (x=2) + (x=3) + (x=4) + (x=5)\n",
    "sum_pois = 0\n",
    "\n",
    "for poison_x in range(0, 6):\n",
    "    sum_pois += poisson.pmf(poison_x, 8)\n",
    "\n",
    "print(round(sum_pois * 100, 2), \"%\")"
   ]
  },
  {
   "cell_type": "markdown",
   "id": "6d41e3d5",
   "metadata": {},
   "source": [
    "c) What is the probability tha the business will receive more than 6 calls in one hour ?\n",
    "\n",
    "\n",
    "1 - (P(x=6) + P(x=5) + P(x=4) + P(x=3) + P(x=2) + P(x=1) + P(x=0 ))\n",
    "\n",
    "\n",
    "$ 1 - \\sum_{x = 0}^{6} P(X=x)$"
   ]
  },
  {
   "cell_type": "code",
   "execution_count": 25,
   "id": "a7f30baa",
   "metadata": {},
   "outputs": [
    {
     "name": "stdout",
     "output_type": "stream",
     "text": [
      "68.66\n"
     ]
    }
   ],
   "source": [
    "total = 0\n",
    "for k in range(0, 7):\n",
    "    total += poisson.pmf(k, 8) \n",
    "\n",
    "total_correct = 1 - total\n",
    "\n",
    "print(round( total_correct * 100, 2))"
   ]
  },
  {
   "cell_type": "code",
   "execution_count": null,
   "id": "9927e2a6",
   "metadata": {},
   "outputs": [],
   "source": []
  },
  {
   "cell_type": "code",
   "execution_count": null,
   "id": "82fc91fb",
   "metadata": {},
   "outputs": [],
   "source": []
  },
  {
   "cell_type": "code",
   "execution_count": null,
   "id": "faab75bb",
   "metadata": {},
   "outputs": [],
   "source": []
  },
  {
   "cell_type": "code",
   "execution_count": null,
   "id": "643bd9a5",
   "metadata": {},
   "outputs": [],
   "source": []
  },
  {
   "cell_type": "code",
   "execution_count": null,
   "id": "8d67a86f",
   "metadata": {},
   "outputs": [],
   "source": []
  }
 ],
 "metadata": {
  "kernelspec": {
   "display_name": "Python 3 (ipykernel)",
   "language": "python",
   "name": "python3"
  },
  "language_info": {
   "codemirror_mode": {
    "name": "ipython",
    "version": 3
   },
   "file_extension": ".py",
   "mimetype": "text/x-python",
   "name": "python",
   "nbconvert_exporter": "python",
   "pygments_lexer": "ipython3",
   "version": "3.9.13"
  }
 },
 "nbformat": 4,
 "nbformat_minor": 5
}
