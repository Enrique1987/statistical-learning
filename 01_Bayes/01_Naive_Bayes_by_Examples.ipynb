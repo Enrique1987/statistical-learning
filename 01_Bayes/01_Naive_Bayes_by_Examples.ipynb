{
 "cells": [
  {
   "cell_type": "markdown",
   "id": "597df0b0",
   "metadata": {},
   "source": [
    "## Collection of Example of Naive Bayes"
   ]
  },
  {
   "cell_type": "markdown",
   "id": "aabfacb6",
   "metadata": {},
   "source": [
    "### Covid - Test\n",
    "\n",
    "\n",
    "TP = 531 &#8594; The test comes out positive and she has covid.  \n",
    "TN = 9443 &#8594; The test comes out negative and she does not have covid.  \n",
    "FP = 2    &#8594; The test come out positive but she does not have covid.  \n",
    "FN = 6    &#8594; The test come out nefative but actually has covid.  "
   ]
  },
  {
   "cell_type": "code",
   "execution_count": 10,
   "id": "64899dff",
   "metadata": {},
   "outputs": [],
   "source": [
    "import seaborn as sns\n",
    "import matplotlib.pyplot as plt    \n",
    "import numpy as np\n",
    "import pandas as pd"
   ]
  },
  {
   "cell_type": "code",
   "execution_count": 11,
   "id": "8fd2f52d",
   "metadata": {},
   "outputs": [
    {
     "data": {
      "text/plain": [
       "<AxesSubplot:>"
      ]
     },
     "execution_count": 11,
     "metadata": {},
     "output_type": "execute_result"
    },
    {
     "data": {
      "image/png": "[encoded data removed]",
      "text/plain": [
       "<Figure size 432x288 with 2 Axes>"
      ]
     },
     "metadata": {
      "needs_background": "light"
     },
     "output_type": "display_data"
    }
   ],
   "source": [
    "cm = np.array([[531, 6],[2,  9443]])\n",
    "\n",
    "cm_matrix_first = pd.DataFrame(data=cm, columns=['Covid test restul:1', 'Covid test restul:0'], \n",
    "                                 index=['Actual Positive:1', 'Actual Negative:0'])\n",
    "\n",
    "sns.heatmap(cm_matrix_first, annot=True, fmt='d', cmap='YlGnBu',  cbar_kws={'orientation': 'vertical'} )\n",
    "\n",
    "#sns.heatmap(cm, annot=True,fmt=\"d\",cmap='Blues')"
   ]
  },
  {
   "cell_type": "code",
   "execution_count": null,
   "id": "2653e66c",
   "metadata": {},
   "outputs": [],
   "source": []
  },
  {
   "cell_type": "code",
   "execution_count": null,
   "id": "c6356cd9",
   "metadata": {},
   "outputs": [],
   "source": [
    "#     0  1\n",
    "#    ------\n",
    "# 0  |TP  FN\n",
    "# 1  |FP  TN\n",
    "\n",
    "from sklearn.metrics import confusion_matrix\n",
    "\n",
    "cm_first = confusion_matrix(y_test, y_pred_test, labels=[\"Yes\", \"No\"])\n",
    "\n",
    "print('Confusion matrix\\n\\n', cm_first)\n",
    "\n",
    "tp =  cm_first[0, 0]\n",
    "tn =  cm_first[1, 1]\n",
    "fn = cm_first[0, 1]\n",
    "fp = cm_first[1, 0]\n",
    "\n",
    "print('\\nTrue Positives(TP) = ', tp)\n",
    "\n",
    "print('\\nTrue Negatives(TN) = ', tn)\n",
    "\n",
    "print('\\nFalse Positives(FN) = ', fn)\n",
    "\n",
    "print('\\nFalse Negatives(FP) = ', fp)\n",
    "\n",
    "manual_recall = round(tp/(tp + fn), 4)\n",
    "manual_precision = round(tp/(tp + fp), 4)\n",
    "\n",
    "print(\"\\n-- Check if we have indentify correctly the confusion matrix values ---\")\n",
    "print('\\nManual Recall = {} vs recall Metric scikit {}'.format(manual_recall, recall))\n",
    "print('\\nManual Precision = {} vs Precision Metric scikit {}'.format(manual_precision, precision))"
   ]
  },
  {
   "cell_type": "code",
   "execution_count": null,
   "id": "3429b385",
   "metadata": {},
   "outputs": [],
   "source": [
    "\n",
    "cm_matrix_first = pd.DataFrame(data=cm_first, columns=['Predictec Positive:1', 'Predicted Negative:0'], \n",
    "                                 index=['Actual Positive:1', 'Actual Negative:0'])\n",
    "\n",
    "sns.heatmap(cm_matrix_first, annot=True, fmt='d', cmap='YlGnBu',  cbar_kws={'orientation': 'vertical'} )"
   ]
  }
 ],
 "metadata": {
  "kernelspec": {
   "display_name": "Python 3",
   "language": "python",
   "name": "python3"
  },
  "language_info": {
   "codemirror_mode": {
    "name": "ipython",
    "version": 3
   },
   "file_extension": ".py",
   "mimetype": "text/x-python",
   "name": "python",
   "nbconvert_exporter": "python",
   "pygments_lexer": "ipython3",
   "version": "3.8.8"
  }
 },
 "nbformat": 4,
 "nbformat_minor": 5
}
